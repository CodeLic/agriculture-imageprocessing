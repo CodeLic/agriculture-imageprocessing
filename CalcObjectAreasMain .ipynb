{
  "nbformat": 4,
  "nbformat_minor": 0,
  "metadata": {
    "colab": {
      "name": "CalcObjectAreasMain.ipynb",
      "provenance": [],
      "collapsed_sections": []
    },
    "kernelspec": {
      "name": "python3",
      "display_name": "Python 3"
    },
    "language_info": {
      "name": "python"
    }
  },
  "cells": [
    {
      "cell_type": "markdown",
      "source": [
        "# 被写体の実面積(表面積)を推定する\n",
        "*    物体は色のついているものが良い(白以外)\n",
        "*    物体を撮影するときは光の当たり方などに注意する\n",
        "*    0.0数ミリ程度の誤差が生じる"
      ],
      "metadata": {
        "id": "Z2Z7j6I-Db9F"
      }
    },
    {
      "cell_type": "code",
      "execution_count": null,
      "metadata": {
        "id": "wMiNNbnvDWSh"
      },
      "outputs": [],
      "source": [
        "#ライブラリimport\n",
        "import os\n",
        "import glob\n",
        "import numpy as np\n",
        "import matplotlib\n",
        "import matplotlib.pyplot as plt\n",
        "import cv2\n",
        "from google.colab.patches import cv2_imshow"
      ]
    },
    {
      "cell_type": "code",
      "source": [
        "# ディレクトリ接続(GoogleDriveのマウント)\n",
        "from google.colab import drive\n",
        "drive.mount('/content/drive')"
      ],
      "metadata": {
        "colab": {
          "base_uri": "https://localhost:8080/"
        },
        "id": "gpaNIs0KEjHl",
        "outputId": "189643f6-e689-45f2-8920-435c81647aff"
      },
      "execution_count": null,
      "outputs": [
        {
          "output_type": "stream",
          "name": "stdout",
          "text": [
            "Drive already mounted at /content/drive; to attempt to forcibly remount, call drive.mount(\"/content/drive\", force_remount=True).\n"
          ]
        }
      ]
    },
    {
      "cell_type": "code",
      "source": [
        "# グローバルで使う変数\n",
        "\n",
        "# キャリブレーション用のチェスボード画像\n",
        "CHESSBOARDIMAGES = glob.glob('/content/drive/MyDrive/CVCameraCalibrateImages/D_ChessPatternImages/*.jpg')\n",
        "\n",
        "# 面積推定したい物体画像\n",
        "OBJECTIMAGEAS = glob.glob('/content/drive/MyDrive/CVCameraCalibrateImages/D_SampleImages/*.jpg')\n",
        "\n",
        "# リサイズしたチェスボード画像\n",
        "RESIZECBIMAGES = glob.glob('/content/drive/MyDrive/CVCameraCalibrateImages/D_ResizeChessPatternImages/*.jpg')\n",
        "\n",
        "# リサイズした物体画像\n",
        "RESIZEOBJECTIMAGES = glob.glob('/content/drive/MyDrive/CVCameraCalibrateImages/D_SampleImages/*jpg')\n"
      ],
      "metadata": {
        "id": "C_kls0mUFTfx"
      },
      "execution_count": null,
      "outputs": []
    },
    {
      "cell_type": "code",
      "source": [
        "# 画素数変換処理(４分の１)\n",
        "def resizeImage(images):\n",
        "    # フォルダのjpgを全てリサイズする\n",
        "    for filename in images:\n",
        "        \n",
        "        # 画像読み込み\n",
        "        img = cv2.imread(filename)\n",
        "\n",
        "        # 高さを定義する\n",
        "        height = img.shape[0]\n",
        "\n",
        "        # 幅を定義\n",
        "        width = img.shape[1]\n",
        "\n",
        "        # リサイズ処理(高さと幅の画素数を4分の1にする)\n",
        "        imgResize = cv2.resize(img, (int(width/4), int(height/4)) )\n",
        "\n",
        "        # リサイズした画像を指定したパスに保存\n",
        "        cv2.imwrite('/content/drive/MyDrive/CVCameraCalibrateImages/D_SampleImages/' + 'Q' +  str(os.path.basename(filename)), imgResize)\n",
        "\n",
        "    print('ImageEcodeComplete')"
      ],
      "metadata": {
        "id": "kh9Hs15GETLS"
      },
      "execution_count": null,
      "outputs": []
    },
    {
      "cell_type": "code",
      "source": [
        "# カメラキャリブレーションによって取得する内部パラメータと歪み係数の取得処理\n",
        "\n",
        "def calibrateCamera(chessimages):\n",
        "\n",
        "    # チェス盤の盤面数を設定\n",
        "    CHECKERBOARD = (7,10)\n",
        "\n",
        "    # //////////////////////////////////////////////////////////////////////////////////////////////////////////////\n",
        "    # cv2.TERM_CRITERIA_EPS: 指定された精度(epsilon)に到達したら繰り返し計算を終了する\n",
        "    # cv2.TERM_CRITERIA_MAX_ITER: 指定された繰り返し回数(max_iter)に到達したら繰り返し計算を終了する\n",
        "    # cv2.TERM_CRITERIA_EPS + cv2.TERM_CRITERIA_MAX_ITER : 上記のどちらかの条件が満たされた時に繰り返し計算を終了する\n",
        "    criteria = (cv2.TERM_CRITERIA_EPS + cv2.TERM_CRITERIA_MAX_ITER, 30, 0.001)\n",
        "\n",
        "    # 各チェックボードから得た3Dベクトルを格納する配列の宣言\n",
        "    objpoints = []\n",
        "    \n",
        "    # 各チェックボードから得た2Dベクトルを格納する配列の宣言\n",
        "    imgpoints = [] \n",
        "\n",
        "\n",
        "    # Defining the world coordinates for 3D points\n",
        "    objp = np.zeros((1, CHECKERBOARD[0]*CHECKERBOARD[1], 3), np.float32)\n",
        "    objp[0,:,:2] = np.mgrid[0:CHECKERBOARD[0], 0:CHECKERBOARD[1]].T.reshape(-1, 2)\n",
        "    prev_img_shape = None\n",
        "\n",
        "    for filepath in chessimages:\n",
        "        img = cv2.imread(filepath)\n",
        "        gray = cv2.cvtColor(img, cv2.COLOR_BGR2GRAY)\n",
        "        \n",
        "        # 画像からチェスボードの角を取得する\n",
        "        # 画像から角がみつかればretにTrueを宣言する\n",
        "        ret, corners = cv2.findChessboardCorners(gray, CHECKERBOARD, cv2.CALIB_CB_ADAPTIVE_THRESH + cv2.CALIB_CB_FAST_CHECK + cv2.CALIB_CB_NORMALIZE_IMAGE)\n",
        "        \n",
        "        \"\"\"\n",
        "        If desired number of corner are detected,\n",
        "        we refine the pixel coordinates and display \n",
        "        them on the images of checker board\n",
        "        \"\"\"\n",
        "        if ret == True:\n",
        "            objpoints.append(objp)\n",
        "\n",
        "            # refining pixel coordinates for given 2d points.\n",
        "            corners2 = cv2.cornerSubPix(gray,corners,(11,11),(-1,-1),criteria)\n",
        "            \n",
        "            imgpoints.append(corners2)\n",
        "\n",
        "            # 角を画像に描写\n",
        "            img = cv2.drawChessboardCorners(img, CHECKERBOARD, corners2,ret)\n",
        "\n",
        "        \n",
        "        # 角を描写したチェス画像の表示\n",
        "        # cv2_imshow(img)\n",
        "\n",
        "        # img_drawChessboardCornersフォルダにチェスボードのコーナー検出画像を保存\n",
        "        cv2.imwrite('/content/drive/MyDrive/CVCameraCalibrateImages/D_DrawCorners/' + 'DC' + str(os.path.basename(filepath)), img)\n",
        "\n",
        "    # 画像の高さと幅を取得\n",
        "    h,w = img.shape[:2]\n",
        "\n",
        "    \"\"\"\n",
        "    Performing camera calibration by \n",
        "    passing the value of known 3D points (objpoints)\n",
        "    and corresponding pixel coordinates of the \n",
        "    detected corners (imgpoints)\n",
        "    \"\"\"\n",
        "    ret, mtx, dist, rvecs, tvecs = cv2.calibrateCamera(objpoints, imgpoints, gray.shape[::-1],None,None)\n",
        "\n",
        "    print(\"Camera matrix : \\n\")\n",
        "    print(mtx)\n",
        "    print(\"dist : \\n\")\n",
        "    print(dist)\n",
        "\n",
        "    # 他の情報、一応コメントアウト\n",
        "    # print(\"ret : \\n\")\n",
        "    # print(ret)\n",
        "    # print(\"rvecs : \\n\")\n",
        "    # print(rvecs)\n",
        "    # print(\"tvecs : \\n\")\n",
        "    # print(tvecs)\n",
        "    \n",
        "    # 内部パラメータと歪み係数を返す\n",
        "    return mtx, dist\n"
      ],
      "metadata": {
        "id": "paYpux2cGu55"
      },
      "execution_count": null,
      "outputs": []
    },
    {
      "cell_type": "code",
      "source": [
        "# カメラ内部パラメータを用いて対象物撮影画像の補正\n",
        "def TranceformingImage(images, mtx, dist):\n",
        "\n",
        "    # Using the derived camera parameters to undistort the image\n",
        "    for filepath in images:\n",
        "\n",
        "        # 画像の取得\n",
        "        img = cv2.imread(filepath)\n",
        "\n",
        "        # リサイズした画像の高さ、幅の取得\n",
        "        h,w = img.shape[:2]\n",
        "\n",
        "        # Refining the camera matrix using parameters obtained by calibration\n",
        "        # ROI:Region Of Interest(対象領域)\n",
        "        newcameramtx, roi = cv2.getOptimalNewCameraMatrix(mtx, dist, (w,h), 1, (w,h))\n",
        "\n",
        "        # Method 1 to undistort the image\n",
        "        dst = cv2.undistort(img, mtx, dist, None, newcameramtx)\n",
        "\n",
        "        # 広角歪み補正をした画像を表示\n",
        "        # cv2_imshow(dst)\n",
        "\n",
        "        # 歪み補正した画像をimg_undistortフォルダへ保存\n",
        "        cv2.imwrite('/content/drive/MyDrive/CVCameraCalibrateImages/D_CalibrationImage/' + 'Calib' + str(os.path.basename(filepath)), dst)\n",
        "\n",
        "    # 補正した画像を返す\n",
        "    return dst"
      ],
      "metadata": {
        "id": "Qd5iH-IlKYGx"
      },
      "execution_count": null,
      "outputs": []
    },
    {
      "cell_type": "code",
      "source": [
        "# 補正した画像用いて物体の面積を求める\n",
        "\n",
        "aruco=cv2.aruco\n",
        "p_dict=aruco.getPredefinedDictionary(aruco.DICT_4X4_50)#4ブロック×4ブロックを50個使用可能\n",
        "img = cv2.imread('/content/drive/MyDrive/CVCameraCalibrateImages/D_CalibrationImage/CalibQGUM_MAUE.jpg')\n",
        "corners, ids, rejectedImgPoints = aruco.detectMarkers(img, p_dict) # 検出\n",
        "img_marked = aruco.drawDetectedMarkers(img.copy(), corners, ids)   # 検出結果をオーバーレイ\n",
        "img_marked_rgb=cv2.cvtColor(img_marked,cv2.COLOR_BGR2RGB)\n",
        "plt.imshow(img_marked_rgb)\n",
        "corners2 = [np.empty((1,4,2))]*4#[[[a,a],[b,b],[c,c],[d,d]]]*4 値を初期化しない\n",
        "\n",
        "ids.ravel()\n",
        "for i,c in zip(ids.ravel(), corners):\n",
        "    corners2[i] = c.copy()\n",
        "\n",
        "m = np.empty((4,2))\n",
        "\n",
        "m[0] = corners2[0][0][2]\n",
        "m[1] = corners2[1][0][3]\n",
        "m[2] = corners2[2][0][0]\n",
        "m[3] = corners2[3][0][1]\n",
        "marker_coordinates = np.float32(m)#マーカのある四隅の座標を格納\n",
        "np.float32(m)\n",
        "\n",
        "\n",
        "h1=((corners2[0][0][2][0]-corners2[3][0][1][0])**2+(corners2[0][0][2][1]-corners2[3][0][1][1])**2)**0.5\n",
        "h2=((corners2[2][0][0][0]-corners2[1][0][3][0])**2+(corners2[2][0][0][1]-corners2[1][0][3][1])**2)**0.5\n",
        "hhh=(h1+h2)/2\n",
        "print(hhh)\n",
        "\n",
        "w1=((corners2[0][0][2][0]-corners2[1][0][3][0])**2+(corners2[0][0][2][1]-corners2[1][0][3][1])**2)**0.5\n",
        "w2=((corners2[2][0][0][0]-corners2[3][0][1][0])**2+(corners2[2][0][0][1]-corners2[3][0][1][1])**2)**0.5\n",
        "www=(w1+w2)/2\n",
        "print(www)\n",
        "\n",
        "# 変形後画像サイズ 縦横比は上記で計算したピクセルを参考にする。\n",
        "width, height = (int(www),int(hhh))\n",
        "\n",
        "# 実際に表示する画像の座標を格納\n",
        "true_coordinates = np.float32([[0,0],[width,0],[width,height],[0,height]])\n",
        "\n",
        "# 変換率\n",
        "trans_mat = cv2.getPerspectiveTransform(marker_coordinates,true_coordinates)\n",
        "# imgを真上から見た画像img_transに変換\n",
        "img_trans = cv2.warpPerspective(img,trans_mat,(width, height))\n",
        "img_trans_rgb=cv2.cvtColor(img_trans,cv2.COLOR_BGR2RGB)\n",
        "plt.imshow(img_trans_rgb)\n",
        "\n",
        "img_trans_gray=cv2.cvtColor(img_trans,cv2.COLOR_BGR2GRAY)\n",
        "img_trans_gray_rgb=cv2.cvtColor(img_trans_gray,cv2.COLOR_GRAY2RGB)\n",
        "plt.imshow(img_trans_gray_rgb)\n",
        "\n",
        "\n",
        "_,p_binary=cv2.threshold(img_trans_gray,190,255,cv2.THRESH_BINARY)\n",
        "p_binary_rgb=cv2.cvtColor(p_binary,cv2.COLOR_GRAY2RGB)\n",
        "plt.imshow(p_binary_rgb)\n",
        "\n",
        "p_binary=cv2.bitwise_not(p_binary)\n",
        "plt.imshow(cv2.cvtColor(p_binary,cv2.COLOR_GRAY2RGB))\n",
        "\n",
        "\n",
        "p_contours,_=cv2.findContours(p_binary,cv2.RETR_EXTERNAL,cv2.CHAIN_APPROX_SIMPLE)\n",
        "p_and_contours=np.copy(img_trans)\n",
        "min_p_area=60\n",
        "large_contours=[cnt for cnt in p_contours if cv2.contourArea(cnt)>min_p_area]\n",
        "draw_p=cv2.drawContours(p_and_contours,large_contours,-1,(0,255,0))\n",
        "plt.imshow(cv2.cvtColor(draw_p,cv2.COLOR_BGR2RGB))\n",
        "cv2.imwrite(\"draw_p.jpg\",draw_p)\n",
        "\n",
        "sarea=0\n",
        "for i, cnts in enumerate(large_contours):\n",
        "    # 輪郭の面積を計算する。\n",
        "    area = cv2.contourArea(cnts)\n",
        "    sarea=sarea+area\n",
        "\n",
        "print(\"総面積={:.2f}cm2\".format(sarea * (12.6 * 21.2) / (www * hhh)))"
      ],
      "metadata": {
        "id": "ppeaUcp0HKvw"
      },
      "execution_count": null,
      "outputs": []
    },
    {
      "cell_type": "markdown",
      "source": [
        "https://plaza.rakuten.co.jp/dobokunoossan/diary/202101240001/"
      ],
      "metadata": {
        "id": "yjXB2ICkH1Bp"
      }
    }
  ]
}