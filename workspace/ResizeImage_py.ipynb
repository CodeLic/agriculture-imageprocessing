{
  "nbformat": 4,
  "nbformat_minor": 0,
  "metadata": {
    "colab": {
      "name": "ResizeImage.py",
      "provenance": [],
      "collapsed_sections": []
    },
    "kernelspec": {
      "name": "python3",
      "display_name": "Python 3"
    },
    "language_info": {
      "name": "python"
    }
  },
  "cells": [
    {
      "cell_type": "markdown",
      "source": [
        "# **画像のエンコードプログラム**"
      ],
      "metadata": {
        "id": "iZRCnYM4AcQN"
      }
    },
    {
      "cell_type": "code",
      "source": [
        "from google.colab import drive\n",
        "drive.mount('/content/drive')"
      ],
      "metadata": {
        "colab": {
          "base_uri": "https://localhost:8080/"
        },
        "id": "a4unCIeqWVSa",
        "outputId": "1219f470-d480-4a24-f196-226692a5c0b5"
      },
      "execution_count": null,
      "outputs": [
        {
          "output_type": "stream",
          "name": "stdout",
          "text": [
            "Drive already mounted at /content/drive; to attempt to forcibly remount, call drive.mount(\"/content/drive\", force_remount=True).\n"
          ]
        }
      ]
    },
    {
      "cell_type": "code",
      "execution_count": null,
      "metadata": {
        "id": "CTVkQwcfYECE",
        "colab": {
          "base_uri": "https://localhost:8080/"
        },
        "outputId": "8c458342-0390-4db2-8823-81a6fbe48921"
      },
      "outputs": [
        {
          "output_type": "stream",
          "name": "stdout",
          "text": [
            "['/content/drive/MyDrive/CVCameraCalibrateImages/D_SampleImages/Tobacco.jpg']\n",
            "EcodeComplete\n"
          ]
        }
      ],
      "source": [
        "import cv2\n",
        "import glob\n",
        "import os\n",
        "\n",
        "# 指定したフォルダ内の画像を取得\n",
        "IMAGES = glob.glob('/content/drive/MyDrive/CVCameraCalibrateImages/D_SampleImages/Tobacco.jpg')\n",
        "\n",
        "# フォルダ内の画像パスを表示\n",
        "print(IMAGES)\n",
        "\n",
        "# フォルダのjpgを全てリサイズする\n",
        "for filename in IMAGES:\n",
        "    \n",
        "    # 画像読み込み\n",
        "    img = cv2.imread(filename)\n",
        "\n",
        "    # 高さを定義する\n",
        "    height = img.shape[0]\n",
        "\n",
        "    # 幅を定義\n",
        "    width = img.shape[1]\n",
        "\n",
        "    # リサイズ処理(高さと幅の画素数を4分の1にする)\n",
        "    imgResize = cv2.resize(img, (int(width/4), int(height/4)) )\n",
        "\n",
        "    # リサイズした画像を指定したパスに保存\n",
        "    cv2.imwrite('/content/drive/MyDrive/CVCameraCalibrateImages/D_SampleImages/' + 'Q' +  str(os.path.basename(filename)), imgResize)\n",
        "\n",
        "print('EcodeComplete')"
      ]
    }
  ]
}